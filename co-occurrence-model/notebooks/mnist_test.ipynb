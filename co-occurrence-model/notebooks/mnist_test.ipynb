{
 "cells": [
  {
   "cell_type": "code",
   "execution_count": 1,
   "id": "6fa39f4b-e85d-4384-aaef-401f616cfd04",
   "metadata": {
    "tags": []
   },
   "outputs": [
    {
     "name": "stdout",
     "output_type": "stream",
     "text": [
      "/home/zarizky/projects/neural-autoregressive-object-co-occurrence\n"
     ]
    }
   ],
   "source": [
    "%cd .."
   ]
  },
  {
   "cell_type": "code",
   "execution_count": 2,
   "id": "6f788ab3-49f6-4dd0-bac5-2a066c6520f4",
   "metadata": {},
   "outputs": [],
   "source": [
    "from collections import OrderedDict\n",
    "from math import log\n",
    "\n",
    "import torch\n",
    "import torch.nn.functional as F\n",
    "from matplotlib import pyplot as plt\n",
    "from torch import nn, optim\n",
    "from torch.utils import data\n",
    "from torchvision import transforms as T\n",
    "from torchvision.datasets import MNIST\n",
    "from tqdm.auto import tqdm\n",
    "\n",
    "from made import MADE, MaskedAutoregressiveLinear"
   ]
  },
  {
   "cell_type": "code",
   "execution_count": 3,
   "id": "40a73ecd-6cc2-49c3-aa14-cb6509faa0c3",
   "metadata": {},
   "outputs": [],
   "source": [
    "device = (\n",
    "    \"cuda\"\n",
    "    if torch.cuda.is_available()\n",
    "    else \"mps\"\n",
    "    if torch.backends.mps.is_available()\n",
    "    else \"cpu\"\n",
    ")\n",
    "\n",
    "torch.manual_seed(0)\n",
    "\n",
    "made = MADE(\n",
    "    MaskedAutoregressiveLinear(784, 512, weight_condition=False),\n",
    "    nn.ReLU(),\n",
    "    MaskedAutoregressiveLinear(512, 512, weight_condition=False),\n",
    "    nn.ReLU(),\n",
    "    MaskedAutoregressiveLinear(512, 784, weight_condition=False),\n",
    ")\n",
    "\n",
    "dataset = dict()\n",
    "dataset[\"train\"] = MNIST(\"mnist\", download=True, train=True, transform=T.ToTensor())\n",
    "dataset[\"test\"] = MNIST(\"mnist\", download=True, train=False, transform=T.ToTensor())\n",
    "\n",
    "dataloader = dict()\n",
    "dataloader[\"train\"] = data.DataLoader(\n",
    "    dataset[\"train\"], batch_size=128, num_workers=16, shuffle=True, pin_memory=True\n",
    ")\n",
    "dataloader[\"test\"] = data.DataLoader(\n",
    "    dataset[\"test\"], batch_size=128, num_workers=16, shuffle=False, pin_memory=True\n",
    ")"
   ]
  },
  {
   "cell_type": "code",
   "execution_count": 4,
   "id": "c6210b5d-2221-40ff-96d8-730e5844198f",
   "metadata": {},
   "outputs": [
    {
     "data": {
      "application/vnd.jupyter.widget-view+json": {
       "model_id": "9f52dd6cb05041b1b3c56ad11430f178",
       "version_major": 2,
       "version_minor": 0
      },
      "text/plain": [
       "  0%|          | 0/500 [00:00<?, ?epoch/s]"
      ]
     },
     "metadata": {},
     "output_type": "display_data"
    }
   ],
   "source": [
    "num_sample_train = 1\n",
    "num_sample_test = 100\n",
    "patience_max = 10\n",
    "\n",
    "made = made.to(device)\n",
    "opt = optim.Adam(made.parameters(), lr=5e-4)\n",
    "\n",
    "epochs = 500\n",
    "\n",
    "record = []\n",
    "with tqdm(total=epochs, unit=\"epoch\") as pbar:\n",
    "    patience = 1\n",
    "    loss_best = torch.inf\n",
    "    for i in range(epochs):\n",
    "        pbar.set_description(f\"[patience: {patience}/{patience_max}]\")\n",
    "\n",
    "        loss_train = 0\n",
    "        loss_test = 0\n",
    "\n",
    "        made.train()\n",
    "        for inputs, _ in dataloader[\"train\"]:\n",
    "            inputs = (inputs > 0.5).to(device)\n",
    "            inputs = inputs.flatten(1).float()\n",
    "            inputs = inputs.unsqueeze(-1)\n",
    "\n",
    "            sample = []\n",
    "            for _ in range(num_sample_train):\n",
    "                dist = torch.distributions.Bernoulli(logits=made(inputs))\n",
    "                dist = torch.distributions.Independent(dist, 1)\n",
    "                sample.append(dist.log_prob(inputs) - log(num_sample_train))\n",
    "            sample = torch.stack(sample, -1)\n",
    "            sample.logsumexp(-1).mean().neg().backward()\n",
    "            opt.step()\n",
    "            opt.zero_grad()\n",
    "\n",
    "        with torch.no_grad():\n",
    "            for inputs, _ in dataloader[\"train\"]:\n",
    "                inputs = (inputs > 0.5).to(device)\n",
    "                inputs = inputs.flatten(1).float()\n",
    "                inputs = inputs.unsqueeze(-1)\n",
    "\n",
    "                sample = []\n",
    "                with torch.inference_mode():\n",
    "                    for _ in range(num_sample_test):\n",
    "                        dist = torch.distributions.Bernoulli(logits=made(inputs))\n",
    "                        dist = torch.distributions.Independent(dist, 1)\n",
    "                        sample.append(dist.log_prob(inputs))\n",
    "                    sample = torch.stack(sample, -1) - log(num_sample_test)\n",
    "                    loss = sample.logsumexp(-1).sum().neg()\n",
    "\n",
    "                loss_train += loss.item()\n",
    "\n",
    "            for inputs, _ in dataloader[\"test\"]:\n",
    "                inputs = (inputs > 0.5).to(device)\n",
    "                inputs = inputs.flatten(1).float()\n",
    "                inputs = inputs.unsqueeze(-1)\n",
    "\n",
    "                sample = []\n",
    "                with torch.inference_mode():\n",
    "                    for _ in range(num_sample_test):\n",
    "                        dist = torch.distributions.Bernoulli(logits=made(inputs))\n",
    "                        dist = torch.distributions.Independent(dist, 1)\n",
    "                        sample.append(dist.log_prob(inputs))\n",
    "                    sample = torch.stack(sample, -1) - log(num_sample_test)\n",
    "                    loss = sample.logsumexp(-1).sum().neg()\n",
    "\n",
    "                loss_test += loss.item()\n",
    "\n",
    "        loss_train /= len(dataset[\"train\"])\n",
    "        loss_test /= len(dataset[\"test\"])\n",
    "\n",
    "        history = OrderedDict(\n",
    "            loss=loss_train,\n",
    "            val_loss=loss_test,\n",
    "        )\n",
    "\n",
    "        if loss_best > (loss_current := history[\"val_loss\"]):\n",
    "            patience = 1\n",
    "            loss_best = loss_current\n",
    "        else:\n",
    "            patience = patience + 1\n",
    "\n",
    "        record.append(history)\n",
    "\n",
    "        for key, value in history.items():\n",
    "            history[key] = str(round(value, 4))\n",
    "\n",
    "        pbar.set_postfix(history)\n",
    "        pbar.update()\n",
    "\n",
    "        if patience > patience_max:\n",
    "            break"
   ]
  },
  {
   "cell_type": "code",
   "execution_count": 5,
   "id": "69adfca2-a183-4bcb-be3f-d6f1bca939f5",
   "metadata": {},
   "outputs": [
    {
     "data": {
      "image/png": "[encoded data removed]",
      "text/plain": [
       "<Figure size 640x480 with 1 Axes>"
      ]
     },
     "metadata": {},
     "output_type": "display_data"
    }
   ],
   "source": [
    "loss = [float(history[\"loss\"]) for history in record]\n",
    "val_loss = [float(history[\"val_loss\"]) for history in record]\n",
    "\n",
    "plt.xlabel(\"Epoch\")\n",
    "plt.ylabel(\"$-\\mathbb{E}[\\log p(x)]$\")\n",
    "\n",
    "plt.plot(loss, \"-\", color=\"red\", label=\"Training\")\n",
    "plt.plot(val_loss, \"-.\", color=\"darkblue\", label=\"Validation\")\n",
    "plt.legend(title=\"Subset\")\n",
    "plt.show()"
   ]
  }
 ],
 "metadata": {
  "kernelspec": {
   "display_name": "Python 3 (ipykernel)",
   "language": "python",
   "name": "python3"
  },
  "language_info": {
   "codemirror_mode": {
    "name": "ipython",
    "version": 3
   },
   "file_extension": ".py",
   "mimetype": "text/x-python",
   "name": "python",
   "nbconvert_exporter": "python",
   "pygments_lexer": "ipython3",
   "version": "3.9.16"
  }
 },
 "nbformat": 4,
 "nbformat_minor": 5
}
