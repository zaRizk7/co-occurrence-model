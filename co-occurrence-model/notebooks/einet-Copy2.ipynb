{
 "cells": [
  {
   "cell_type": "code",
   "execution_count": 1,
   "id": "74bc44db-f1a0-4669-84ad-643a066beae8",
   "metadata": {
    "tags": []
   },
   "outputs": [
    {
     "name": "stdout",
     "output_type": "stream",
     "text": [
      "/home/zarizky/projects/neural-autoregressive-object-co-occurrence\n"
     ]
    }
   ],
   "source": [
    "%cd .."
   ]
  },
  {
   "cell_type": "code",
   "execution_count": 2,
   "id": "85e01383-d610-49ad-9313-a4b2d1a3b19b",
   "metadata": {
    "tags": []
   },
   "outputs": [],
   "source": [
    "from copy import deepcopy\n",
    "from math import log\n",
    "\n",
    "import matplotlib.pyplot as plt\n",
    "import networkx as nx\n",
    "import numpy as np\n",
    "import torch\n",
    "from tqdm.auto import tqdm\n",
    "\n",
    "from EinsumNetwork import EinsumNetwork, Graph\n",
    "from utils import mutual_information\n",
    "from utils.dataset import ObjectCooccurrenceCOCODataset\n",
    "\n",
    "torch.manual_seed(0)\n",
    "device = \"cuda\" if torch.cuda.is_available() else \"cpu\""
   ]
  },
  {
   "cell_type": "code",
   "execution_count": 3,
   "id": "f284fa51-bb52-4f66-ab03-5e86d7ba2782",
   "metadata": {
    "tags": []
   },
   "outputs": [],
   "source": [
    "dataset_train = ObjectCooccurrenceCOCODataset(\"dataset/coco2017-cooccurences-train.csv\")\n",
    "dataset_valid = ObjectCooccurrenceCOCODataset(\"dataset/coco2017-cooccurences-valid.csv\")\n",
    "\n",
    "batch_size = 8196\n",
    "dataloader_train = torch.utils.data.DataLoader(\n",
    "    dataset_train,\n",
    "    batch_size,\n",
    "    True,\n",
    "    drop_last=True,\n",
    "    num_workers=8,\n",
    "    pin_memory=device == \"cuda\",\n",
    ")\n",
    "dataloader_train2 = torch.utils.data.DataLoader(\n",
    "    dataset_train, batch_size, num_workers=8, pin_memory=device == \"cuda\"\n",
    ")\n",
    "dataloader_valid = torch.utils.data.DataLoader(\n",
    "    dataset_valid, batch_size, num_workers=8, pin_memory=device == \"cuda\"\n",
    ")"
   ]
  },
  {
   "cell_type": "code",
   "execution_count": 4,
   "id": "e913a65d-0672-426e-80ad-ca701a66d080",
   "metadata": {
    "tags": []
   },
   "outputs": [],
   "source": [
    "max_num_epochs = 500\n",
    "online_em_frequency = 1\n",
    "online_em_stepsize = 1e-3\n",
    "if dataloader_train.drop_last:\n",
    "    online_em_stepsize = 1 / len(dataloader_train)"
   ]
  },
  {
   "cell_type": "code",
   "execution_count": 5,
   "id": "04790c32-ed3c-4e77-aaac-d880a3590c5e",
   "metadata": {
    "tags": []
   },
   "outputs": [],
   "source": [
    "data_train = torch.from_numpy(dataset_train.features.to_numpy()).to(device)\n",
    "mi = mutual_information(data_train).cpu()\n",
    "pair1, pair2 = torch.where(mi != -torch.inf)\n",
    "mi_pairs = []\n",
    "for i, j in zip(pair1, pair2):\n",
    "    mi_pairs.append(dict(i=i.item(), j=j.item(), value=mi[i, j].item()))\n",
    "mi_pairs = sorted(mi_pairs, key=lambda k: k[\"value\"], reverse=True)"
   ]
  },
  {
   "cell_type": "code",
   "execution_count": 6,
   "id": "e5a70ad7-c884-4c1f-bea6-40ec51accc4d",
   "metadata": {
    "tags": []
   },
   "outputs": [],
   "source": [
    "def pairwise_region_graph(k, pairs, replica_id):\n",
    "    G = nx.DiGraph()\n",
    "\n",
    "    G_pair = nx.DiGraph()\n",
    "\n",
    "    root = Graph.DistributionVector([0, 1])\n",
    "    root_pair = Graph.DistributionVector(pairs)\n",
    "\n",
    "    for i in range(k):\n",
    "        product = Graph.Product([0, 1])\n",
    "        left = Graph.DistributionVector([0])\n",
    "        right = Graph.DistributionVector([1])\n",
    "\n",
    "        left.einet_address.replica_idx = i\n",
    "        right.einet_address.replica_idx = i\n",
    "\n",
    "        G.add_edge(product, left)\n",
    "        G.add_edge(product, right)\n",
    "        G.add_edge(root, product)\n",
    "\n",
    "        product_pair = Graph.Product(pairs)\n",
    "        left_pair = Graph.DistributionVector([pairs[0]])\n",
    "        right_pair = Graph.DistributionVector([pairs[0]])\n",
    "\n",
    "        left_pair.einet_address.replica_idx = replica_id[0]\n",
    "        right_pair.einet_address.replica_idx = replica_id[0]\n",
    "\n",
    "        G_pair.add_edge(product_pair, left_pair)\n",
    "        G_pair.add_edge(product_pair, right_pair)\n",
    "        G_pair.add_edge(root_pair, product_pair)\n",
    "\n",
    "        replica_id[0] += 1\n",
    "\n",
    "    return G, G_pair, root_pair\n",
    "\n",
    "\n",
    "def pairwise_einet(k, pairs, replica_id, **kwargs):\n",
    "    graph, graph_pair, root_pair = pairwise_region_graph(k, pairs, replica_id)\n",
    "\n",
    "    args = EinsumNetwork.Args(\n",
    "        num_classes=1,\n",
    "        num_input_distributions=1,\n",
    "        exponential_family=EinsumNetwork.CategoricalArray,\n",
    "        exponential_family_args={\"K\": 29},\n",
    "        num_sums=1,\n",
    "        num_var=2,\n",
    "        **kwargs\n",
    "        # online_em_frequency=online_em_frequency,\n",
    "        # online_em_stepsize=online_em_stepsize,\n",
    "    )\n",
    "\n",
    "    einet = EinsumNetwork.EinsumNetwork(graph, args)\n",
    "    einet.initialize()\n",
    "\n",
    "    return einet, graph_pair, root_pair\n",
    "\n",
    "\n",
    "def bic_score(log_likelihood, sample_size, param_size):\n",
    "    return log_likelihood - param_size / 2 * log(sample_size)"
   ]
  },
  {
   "cell_type": "code",
   "execution_count": 7,
   "id": "536b7e4c-fa6a-408f-86b6-9e23cfcd7057",
   "metadata": {
    "tags": []
   },
   "outputs": [],
   "source": [
    "def lcm(\n",
    "    pairs,\n",
    "    trainloader,\n",
    "    evalloader,\n",
    "    k_max,\n",
    "    epochs_max,\n",
    "    patience_max,\n",
    "    device,\n",
    "    replica_id=[0],\n",
    "    **kwargs\n",
    "):\n",
    "    bic_best = -torch.inf\n",
    "    for k in range(k_max):\n",
    "        model, graph, root = pairwise_einet(k + 1, pairs, replica_id, **kwargs)\n",
    "        model = model.to(device)\n",
    "\n",
    "        p_total = sum(p.numel() for p in model.parameters())\n",
    "\n",
    "        ll_best = -torch.inf\n",
    "        patience = 1\n",
    "        for epoch in range(epochs_max):\n",
    "            for inputs in trainloader:\n",
    "                inputs = inputs.to(device)[:, pairs]\n",
    "                outputs = model(inputs)\n",
    "\n",
    "                ll = EinsumNetwork.log_likelihoods(outputs).sum()\n",
    "                ll.backward()\n",
    "                model.em_process_batch()\n",
    "                model.em_update()\n",
    "                model.zero_grad()\n",
    "\n",
    "            with torch.inference_mode():\n",
    "                ll_total = 0\n",
    "                n_total = 0\n",
    "                for inputs in evalloader:\n",
    "                    inputs = inputs.to(device)[:, pairs]\n",
    "                    outputs = model(inputs)\n",
    "\n",
    "                    ll = EinsumNetwork.log_likelihoods(outputs).sum()\n",
    "                    ll_total = ll_total + ll.item()\n",
    "                    n_total = n_total + inputs.size(0)\n",
    "\n",
    "            if ll_total > ll_best:\n",
    "                patience = 1\n",
    "                ll_best = ll_total\n",
    "            else:\n",
    "                patience = patience + 1\n",
    "\n",
    "            if patience > patience_max:\n",
    "                break\n",
    "\n",
    "        bic = bic_score(ll_total, n_total, p_total)\n",
    "\n",
    "        if bic > bic_best:\n",
    "            print(k + 1, bic, ll_total, p_total)\n",
    "            bic_best = bic\n",
    "            k_best = k + 1\n",
    "            graph_best = graph\n",
    "            root_best = root\n",
    "        else:\n",
    "            break\n",
    "\n",
    "    return k_best, graph_best, root_best"
   ]
  },
  {
   "cell_type": "code",
   "execution_count": null,
   "id": "399afc4f-99ee-4a45-9cd7-39ef97dd0782",
   "metadata": {},
   "outputs": [],
   "source": [
    "k_max = 20\n",
    "epochs_max = 100\n",
    "patience_max = 5"
   ]
  },
  {
   "cell_type": "code",
   "execution_count": 10,
   "id": "5dd56999-02ab-4c97-bad7-a76989d04f27",
   "metadata": {
    "tags": []
   },
   "outputs": [
    {
     "name": "stdout",
     "output_type": "stream",
     "text": [
      "[dining table]-[furniture] [chair]-[furniture]\n",
      "1 -110461.66913613139 -110117.08349609375 59\n",
      "2 -105076.06992266659 -104375.2177734375 120\n",
      "[dining table]-[furniture] [cup]-[kitchen]\n",
      "1 -92749.76068886576 -92405.17504882812 59\n",
      "2 -87218.44492266659 -86517.5927734375 120\n"
     ]
    }
   ],
   "source": [
    "V = set(range(dataset_train.features.shape[1]))\n",
    "\n",
    "G = nx.DiGraph()\n",
    "\n",
    "for pair in mi_pairs[:2]:\n",
    "    # Greedily fetch W sorted by highest MI\n",
    "    i, j, score = pair.values()\n",
    "\n",
    "    # Remove W from V\n",
    "    V.discard(i)\n",
    "    V.discard(j)\n",
    "\n",
    "    print(dataset_train.features.columns[i], dataset_train.features.columns[j])\n",
    "\n",
    "    # Do LCM(W)\n",
    "    k, g, r = lcm(\n",
    "        (i, j),\n",
    "        dataloader_train,\n",
    "        dataloader_train2,\n",
    "        k_max,\n",
    "        epochs_max,\n",
    "        patience_max,\n",
    "        device,\n",
    "        online_em_frequency=online_em_frequency,\n",
    "        online_em_stepsize=online_em_stepsize,\n",
    "    )\n",
    "    \n",
    "    # Check single state\n",
    "    if k <= 1:\n",
    "        break\n",
    "        \n",
    "    \n",
    "        \n",
    "    # Stop if no variable remains\n",
    "    if len(V) <= 0:\n",
    "        break\n",
    "        \n",
    "    \n",
    "\n",
    "    G = nx.compose(G, g)"
   ]
  },
  {
   "cell_type": "code",
   "execution_count": 13,
   "id": "700e7935-ee6a-4d0d-8988-023bea7f6930",
   "metadata": {
    "tags": []
   },
   "outputs": [
    {
     "data": {
      "image/png": "[encoded data removed]",
      "text/plain": [
       "<Figure size 640x480 with 1 Axes>"
      ]
     },
     "metadata": {},
     "output_type": "display_data"
    }
   ],
   "source": [
    "pos = nx.nx_agraph.graphviz_layout(G, \"dot\")\n",
    "\n",
    "products = Graph.get_products(G)\n",
    "leaves = Graph.get_leaves(G)\n",
    "sums = Graph.get_sums(G)\n",
    "\n",
    "nx.draw_networkx_nodes(G, pos, leaves, node_shape=\"^\")\n",
    "nx.draw_networkx_nodes(G, pos, products, node_shape=\"x\")\n",
    "nx.draw_networkx_nodes(G, pos, sums, node_shape=\"+\")\n",
    "nx.draw_networkx_edges(G, pos)\n",
    "\n",
    "plt.show()"
   ]
  }
 ],
 "metadata": {
  "kernelspec": {
   "display_name": "Python 3 (ipykernel)",
   "language": "python",
   "name": "python3"
  },
  "language_info": {
   "codemirror_mode": {
    "name": "ipython",
    "version": 3
   },
   "file_extension": ".py",
   "mimetype": "text/x-python",
   "name": "python",
   "nbconvert_exporter": "python",
   "pygments_lexer": "ipython3",
   "version": "3.9.16"
  }
 },
 "nbformat": 4,
 "nbformat_minor": 5
}
