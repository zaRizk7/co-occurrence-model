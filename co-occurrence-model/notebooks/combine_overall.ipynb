{
 "cells": [
  {
   "cell_type": "code",
   "execution_count": 1,
   "id": "dcaef13e-3d4d-4143-8e6b-39606f377f6e",
   "metadata": {
    "tags": []
   },
   "outputs": [
    {
     "name": "stdout",
     "output_type": "stream",
     "text": [
      "/home/zarizky/projects/neural-autoregressive-object-co-occurrence\n"
     ]
    }
   ],
   "source": [
    "%cd .."
   ]
  },
  {
   "cell_type": "code",
   "execution_count": 2,
   "id": "207b4b2f-b6a7-4c14-8d76-8c26045f69f3",
   "metadata": {
    "tags": []
   },
   "outputs": [],
   "source": [
    "import glob\n",
    "import json\n",
    "\n",
    "import pandas as pd"
   ]
  },
  {
   "cell_type": "code",
   "execution_count": 4,
   "id": "132a1b31-bdaa-4de5-ae32-180c9e7f30e5",
   "metadata": {
    "tags": []
   },
   "outputs": [],
   "source": [
    "results = []\n",
    "for model in glob.glob(\"outputs/overall/*.json\"):\n",
    "    with open(model, \"r\") as f:\n",
    "        results.append(json.load(f))"
   ]
  },
  {
   "cell_type": "code",
   "execution_count": 5,
   "id": "9e5015d6-010b-46fd-ab1f-4e31bc8ccd7d",
   "metadata": {
    "tags": []
   },
   "outputs": [
    {
     "data": {
      "text/html": [
       "<div>\n",
       "<style scoped>\n",
       "    .dataframe tbody tr th:only-of-type {\n",
       "        vertical-align: middle;\n",
       "    }\n",
       "\n",
       "    .dataframe tbody tr th {\n",
       "        vertical-align: top;\n",
       "    }\n",
       "\n",
       "    .dataframe thead th {\n",
       "        text-align: right;\n",
       "    }\n",
       "</style>\n",
       "<table border=\"1\" class=\"dataframe\">\n",
       "  <thead>\n",
       "    <tr style=\"text-align: right;\">\n",
       "      <th></th>\n",
       "      <th>Parameter Count</th>\n",
       "      <th>Avg. Train NLL</th>\n",
       "      <th>Avg. Test NLL</th>\n",
       "      <th>Avg. Train NLP</th>\n",
       "      <th>Avg. Test NLP</th>\n",
       "      <th>Neg. BIC</th>\n",
       "    </tr>\n",
       "    <tr>\n",
       "      <th>Model</th>\n",
       "      <th></th>\n",
       "      <th></th>\n",
       "      <th></th>\n",
       "      <th></th>\n",
       "      <th></th>\n",
       "      <th></th>\n",
       "    </tr>\n",
       "  </thead>\n",
       "  <tbody>\n",
       "    <tr>\n",
       "      <th>Independent</th>\n",
       "      <td>2,321</td>\n",
       "      <td>14.8021</td>\n",
       "      <td>14.9431</td>\n",
       "      <td>14.8021</td>\n",
       "      <td>14.9431</td>\n",
       "      <td>1,764,455.7474</td>\n",
       "    </tr>\n",
       "    <tr>\n",
       "      <th>Mixture ($K = 5$)</th>\n",
       "      <td>11,605</td>\n",
       "      <td>13.3492</td>\n",
       "      <td>13.5085</td>\n",
       "      <td>12.6217</td>\n",
       "      <td>12.8048</td>\n",
       "      <td>1,646,817.5170</td>\n",
       "    </tr>\n",
       "    <tr>\n",
       "      <th>Mixture ($K = 20$)</th>\n",
       "      <td>46,420</td>\n",
       "      <td>12.6865</td>\n",
       "      <td>12.8932</td>\n",
       "      <td>11.4260</td>\n",
       "      <td>11.7301</td>\n",
       "      <td>1,771,756.1819</td>\n",
       "    </tr>\n",
       "    <tr>\n",
       "      <th>Chow-Liu Tree</th>\n",
       "      <td>66,468</td>\n",
       "      <td>13.4535</td>\n",
       "      <td>13.7067</td>\n",
       "      <td>12.5542</td>\n",
       "      <td>12.9422</td>\n",
       "      <td>1,979,573.5735</td>\n",
       "    </tr>\n",
       "    <tr>\n",
       "      <th>BIN-G</th>\n",
       "      <td>4,277</td>\n",
       "      <td>13.6124</td>\n",
       "      <td>13.7443</td>\n",
       "      <td>12.8371</td>\n",
       "      <td>12.9711</td>\n",
       "      <td>1,635,155.1840</td>\n",
       "    </tr>\n",
       "    <tr>\n",
       "      <th>EiNet RAT-SPN-01</th>\n",
       "      <td>208,880</td>\n",
       "      <td>12.0937</td>\n",
       "      <td>12.4737</td>\n",
       "      <td>9.6308</td>\n",
       "      <td>10.5216</td>\n",
       "      <td>2,650,482.7972</td>\n",
       "    </tr>\n",
       "    <tr>\n",
       "      <th>MADE</th>\n",
       "      <td>1,231,632</td>\n",
       "      <td>6.1421</td>\n",
       "      <td>6.3260</td>\n",
       "      <td>6.1496</td>\n",
       "      <td>6.3043</td>\n",
       "      <td>7,919,795.4723</td>\n",
       "    </tr>\n",
       "  </tbody>\n",
       "</table>\n",
       "</div>"
      ],
      "text/plain": [
       "                   Parameter Count  Avg. Train NLL  Avg. Test NLL  \\\n",
       "Model                                                               \n",
       "Independent                  2,321         14.8021        14.9431   \n",
       "Mixture ($K = 5$)           11,605         13.3492        13.5085   \n",
       "Mixture ($K = 20$)          46,420         12.6865        12.8932   \n",
       "Chow-Liu Tree               66,468         13.4535        13.7067   \n",
       "BIN-G                        4,277         13.6124        13.7443   \n",
       "EiNet RAT-SPN-01           208,880         12.0937        12.4737   \n",
       "MADE                     1,231,632          6.1421         6.3260   \n",
       "\n",
       "                    Avg. Train NLP  Avg. Test NLP        Neg. BIC  \n",
       "Model                                                              \n",
       "Independent                14.8021        14.9431  1,764,455.7474  \n",
       "Mixture ($K = 5$)          12.6217        12.8048  1,646,817.5170  \n",
       "Mixture ($K = 20$)         11.4260        11.7301  1,771,756.1819  \n",
       "Chow-Liu Tree              12.5542        12.9422  1,979,573.5735  \n",
       "BIN-G                      12.8371        12.9711  1,635,155.1840  \n",
       "EiNet RAT-SPN-01            9.6308        10.5216  2,650,482.7972  \n",
       "MADE                        6.1496         6.3043  7,919,795.4723  "
      ]
     },
     "execution_count": 5,
     "metadata": {},
     "output_type": "execute_result"
    }
   ],
   "source": [
    "df = pd.DataFrame(results)\n",
    "\n",
    "kind_order = {\"Baseline\": 0, \"Structured Model\": 1, \"Advanced Model\": 2}\n",
    "\n",
    "df[\"kind_order\"] = df.kind.apply(lambda kind: kind_order[kind])\n",
    "df = df.sort_values(\"kind_order\").reset_index(drop=True)\n",
    "df[\"model_order\"] = [2, 3, 1, 2, 1, 2, 1]\n",
    "\n",
    "df = df.sort_values([\"kind_order\", \"model_order\"]).reset_index(drop=True)\n",
    "df = df.iloc[:, :-2]\n",
    "\n",
    "df.columns = [\n",
    "    \"Model\",\n",
    "    \"Kind\",\n",
    "    \"Parameter Count\",\n",
    "    \"Avg. Train NLL\",\n",
    "    \"Avg. Test NLL\",\n",
    "    \"Avg. Train NLP\",\n",
    "    \"Avg. Test NLP\",\n",
    "    \"Neg. BIC\",\n",
    "]\n",
    "df = df.iloc[:, [0, 2, 3, 4, 5, 6, 7]]\n",
    "df = df.set_index(\"Model\")\n",
    "df = df.round(4)\n",
    "df[\"Parameter Count\"] = df[\"Parameter Count\"].apply(lambda c: f\"{c:,}\")\n",
    "df[\"Neg. BIC\"] = df[\"Neg. BIC\"].apply(lambda bic: f\"{bic:,.4f}\")\n",
    "df.to_csv(\"outputs/overall/results.csv\")\n",
    "df"
   ]
  }
 ],
 "metadata": {
  "kernelspec": {
   "display_name": "Python 3 (ipykernel)",
   "language": "python",
   "name": "python3"
  },
  "language_info": {
   "codemirror_mode": {
    "name": "ipython",
    "version": 3
   },
   "file_extension": ".py",
   "mimetype": "text/x-python",
   "name": "python",
   "nbconvert_exporter": "python",
   "pygments_lexer": "ipython3",
   "version": "3.9.16"
  }
 },
 "nbformat": 4,
 "nbformat_minor": 5
}
