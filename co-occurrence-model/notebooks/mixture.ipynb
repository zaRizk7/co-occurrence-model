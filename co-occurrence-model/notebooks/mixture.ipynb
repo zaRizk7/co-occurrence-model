{
 "cells": [
  {
   "cell_type": "code",
   "execution_count": 1,
   "id": "6303587b-e978-4917-a88f-1a1a9419b90b",
   "metadata": {},
   "outputs": [
    {
     "name": "stdout",
     "output_type": "stream",
     "text": [
      "/home/zarizky/projects/neural-autoregressive-object-co-occurrence\n"
     ]
    }
   ],
   "source": [
    "%cd ..\n",
    "\n",
    "import torch\n",
    "from einops import rearrange, repeat\n",
    "from matplotlib import pyplot as plt\n",
    "from sklearn.datasets import make_blobs\n",
    "from tqdm.auto import tqdm"
   ]
  },
  {
   "cell_type": "code",
   "execution_count": 2,
   "id": "35016b80-11d8-4590-8715-3c5b6f0cee87",
   "metadata": {},
   "outputs": [],
   "source": [
    "k = 8\n",
    "eps = 1e-10\n",
    "max_step = 300\n",
    "do_kmeans = False\n",
    "init_kmeans_plus2 = True\n",
    "\n",
    "X, _ = make_blobs(n_samples=10000, centers=k, cluster_std=0.60, random_state=0)\n",
    "X = torch.from_numpy(X.copy())\n",
    "X_expand = repeat(X, \"batch dim -> batch 1 dim\")"
   ]
  },
  {
   "cell_type": "code",
   "execution_count": 3,
   "id": "7af66a89-0f52-400f-82ae-44badf439f83",
   "metadata": {},
   "outputs": [],
   "source": [
    "torch.manual_seed(0)\n",
    "\n",
    "cat = torch.distributions.Categorical(logits=torch.zeros(X.size(0)))\n",
    "if init_kmeans_plus2:\n",
    "    ids = [cat.sample()]\n",
    "    C = X[ids]\n",
    "\n",
    "    for i in range(k - 1):\n",
    "        logits = (X_expand - C).norm(p=2, dim=-1).min(-1).values\n",
    "        cat = torch.distributions.Categorical(logits=logits)\n",
    "        ids.append(cat.sample())\n",
    "        C = X[ids, :]\n",
    "else:\n",
    "    C = X[cat.sample([k])]\n",
    "\n",
    "if do_kmeans:\n",
    "    loss_best = torch.inf\n",
    "    losses = []\n",
    "\n",
    "    with tqdm(total=max_step, unit=\"step\") as pbar:\n",
    "        for i in range(max_step):\n",
    "            distance = (X_expand - C).norm(p=2, dim=-1)\n",
    "\n",
    "            probs = distance.neg().softmax(-1)\n",
    "            probs_expand = repeat(probs, \"n k -> n k 1\")\n",
    "            N_k = probs_expand.sum(0)\n",
    "\n",
    "            C = (X_expand * probs_expand).sum(0) / N_k\n",
    "\n",
    "            losses.append(-probs.log().max(-1).values.sum())\n",
    "\n",
    "            if abs(loss_best - losses[-1]) > eps:\n",
    "                loss_best = losses[-1]\n",
    "            else:\n",
    "                break\n",
    "\n",
    "            pbar.set_postfix(\n",
    "                [\n",
    "                    (\"loss\", \"{:.4f}\".format(losses[-1])),\n",
    "                    (\"loss_best\", \"{:.4f}\".format(loss_best)),\n",
    "                ]\n",
    "            )\n",
    "            pbar.update()\n",
    "\n",
    "    plt.plot(losses)\n",
    "    plt.ylabel(\"$\\sum^N_{i}\\max_{c_k}\\,\\log\\mathrm{softmax}(-||x_i - c_k||_2)$\")\n",
    "    plt.xlabel(\"Step\")\n",
    "    plt.tight_layout()"
   ]
  },
  {
   "cell_type": "code",
   "execution_count": 4,
   "id": "5e65b208-2f4c-4bea-91cc-6d1b9bccc157",
   "metadata": {},
   "outputs": [
    {
     "data": {
      "application/vnd.jupyter.widget-view+json": {
       "model_id": "bd15da74d26f4c349fa01c039aa94cd3",
       "version_major": 2,
       "version_minor": 0
      },
      "text/plain": [
       "  0%|          | 0/300 [00:00<?, ?step/s]"
      ]
     },
     "metadata": {},
     "output_type": "display_data"
    }
   ],
   "source": [
    "if do_kmeans:\n",
    "    prior = torch.nn.Parameter(probs.mean(0), requires_grad=False)\n",
    "else:\n",
    "    prior = torch.nn.Parameter(torch.zeros(k).softmax(0), requires_grad=False)\n",
    "mean = torch.nn.Parameter(C, requires_grad=False)\n",
    "std = torch.nn.Parameter(torch.ones_like(C), requires_grad=False)\n",
    "\n",
    "# Initialize distribution\n",
    "mixture_distribution = torch.distributions.Categorical(prior)\n",
    "component_distribution = torch.distributions.Normal(mean, std)\n",
    "component_distribution = torch.distributions.Independent(component_distribution, 1)\n",
    "dist = torch.distributions.MixtureSameFamily(\n",
    "    mixture_distribution, component_distribution\n",
    ")\n",
    "\n",
    "loss_best = torch.inf\n",
    "\n",
    "losses = []\n",
    "\n",
    "with tqdm(total=max_step, unit=\"step\") as pbar:\n",
    "    # Expectation-Maximization\n",
    "    for i in range(max_step):\n",
    "        # Calculate posterior (E-Step)\n",
    "        posterior = (\n",
    "            dist.mixture_distribution.probs\n",
    "            * dist.component_distribution.log_prob(X_expand).exp()\n",
    "        )\n",
    "        posterior = posterior / posterior.sum(-1, keepdims=True)\n",
    "        prior.data = posterior.mean(0)\n",
    "\n",
    "        # Update parameter (M-Step)\n",
    "        posterior = repeat(posterior, \"n k -> n k 1\")\n",
    "        N_k = posterior.sum(0)\n",
    "\n",
    "        prior.data = rearrange(N_k / X.size(0), \"k 1 -> (k 1)\")\n",
    "        mean.data = (X_expand * posterior).sum(0) / N_k\n",
    "        std.data = ((posterior * (X_expand - mean).square()).sum(0) / (N_k - 1)).sqrt()\n",
    "\n",
    "        # Check convergence status\n",
    "        loss = dist.log_prob(X).mean().neg()\n",
    "\n",
    "        if torch.isnan(loss):\n",
    "            raise ValueError(\"Found NaN loss!\")\n",
    "\n",
    "        if 0.0 - eps < prior.sum() > 1.0 + eps:\n",
    "            raise ValueError(\"Invalid prior!\")\n",
    "\n",
    "        losses.append(loss.item())\n",
    "\n",
    "        if abs(loss_best - losses[-1]) > eps:\n",
    "            loss_best = losses[-1]\n",
    "        else:\n",
    "            break\n",
    "\n",
    "        # Update progress\n",
    "        pbar.set_postfix(\n",
    "            [\n",
    "                (\"loss\", \"{:.4f}\".format(losses[-1])),\n",
    "                (\"loss_best\", \"{:.4f}\".format(loss_best)),\n",
    "            ]\n",
    "        )\n",
    "        pbar.update()"
   ]
  },
  {
   "cell_type": "code",
   "execution_count": 5,
   "id": "6e2a1045-40ee-49c6-b695-4faad65db316",
   "metadata": {},
   "outputs": [
    {
     "data": {
      "image/png": "[encoded data removed]",
      "text/plain": [
       "<Figure size 1000x400 with 2 Axes>"
      ]
     },
     "metadata": {},
     "output_type": "display_data"
    }
   ],
   "source": [
    "color = plt.cm.tab20.colors\n",
    "\n",
    "fig = plt.figure(figsize=(10, 4))\n",
    "\n",
    "fig.suptitle(\"Result\")\n",
    "\n",
    "ax1 = fig.add_subplot(1, 2, 1)\n",
    "for i in range(k):\n",
    "    X_c = X[posterior.argmax(1).squeeze(-1) == i]\n",
    "    ax1.plot(X_c[:, -1], X_c[:, 0], \".\", color=color[i % len(color)])\n",
    "ax1.plot(mean[:, -1], mean[:, 0], \".\", color=\"k\", label=\"Mixture\")\n",
    "if do_kmeans:\n",
    "    plt.plot(C[:, -1], C[:, 0], \".\", color=\"blue\", label=\"k-Means\")\n",
    "    plt.legend(title=\"Model\")\n",
    "ax1.set_xlabel(\"$x_1$\")\n",
    "ax1.set_ylabel(\"$x_2$\")\n",
    "\n",
    "ax2 = fig.add_subplot(1, 2, 2)\n",
    "ax2.plot(losses)\n",
    "ax2.set_ylabel(\n",
    "    \"$-\\mathbb{E}_{p(x)}[\\log\\mathbb{E}_{p(z=k;\\\\theta_k)}[p(x|z=k;\\\\theta_k)]]$\"\n",
    ")\n",
    "ax2.set_xlabel(\"Step\")\n",
    "\n",
    "fig.tight_layout()"
   ]
  },
  {
   "cell_type": "code",
   "execution_count": 6,
   "id": "7c889e4a-11de-40e3-bf45-439bc46df3ee",
   "metadata": {},
   "outputs": [],
   "source": [
    "from copy import deepcopy\n",
    "from math import log\n",
    "\n",
    "import torch\n",
    "from matplotlib import pyplot as plt\n",
    "from sklearn.datasets import make_blobs\n",
    "\n",
    "from mixture.gaussian import GaussianMixture\n",
    "\n",
    "k = 8\n",
    "X, _ = make_blobs(n_samples=10000, centers=k, cluster_std=0.60, random_state=0)\n",
    "X = torch.from_numpy(X.copy())"
   ]
  },
  {
   "cell_type": "code",
   "execution_count": 7,
   "id": "63d5f44a-75e2-47d3-9929-aae1f6755985",
   "metadata": {},
   "outputs": [],
   "source": [
    "result = []\n",
    "models = []\n",
    "\n",
    "torch.manual_seed(0)\n",
    "\n",
    "restarts = 10\n",
    "k_max = 10\n",
    "for k_i in range(1, k_max + 1):\n",
    "    bic_best = float(\"inf\")\n",
    "    for _ in range(restarts):\n",
    "        gmm = GaussianMixture(k_i)\n",
    "        gmm.fit(X)\n",
    "        if bic_best > (\n",
    "            bic_current := sum(p.numel() for p in gmm.parameters()) * log(X.size(0))\n",
    "            + 2 * gmm.loss[-1] * X.size(0)\n",
    "        ):\n",
    "            bic_best = bic_current\n",
    "            model_best = deepcopy(gmm)\n",
    "\n",
    "    result.append(bic_best)\n",
    "    models.append(model_best)"
   ]
  },
  {
   "cell_type": "code",
   "execution_count": 8,
   "id": "83e2bac6-21fc-47ab-94cc-6cf6f0fca288",
   "metadata": {},
   "outputs": [
    {
     "data": {
      "text/plain": [
       "[<matplotlib.lines.Line2D at 0x7fb56470df40>]"
      ]
     },
     "execution_count": 8,
     "metadata": {},
     "output_type": "execute_result"
    },
    {
     "data": {
      "image/png": "[encoded data removed]",
      "text/plain": [
       "<Figure size 640x480 with 1 Axes>"
      ]
     },
     "metadata": {},
     "output_type": "display_data"
    }
   ],
   "source": [
    "plt.xlabel(\"$k$\")\n",
    "plt.ylabel(\"BIC\")\n",
    "plt.plot(result)"
   ]
  },
  {
   "cell_type": "code",
   "execution_count": 9,
   "id": "851e5acb-2ab8-4e95-89cb-ecefe61b9891",
   "metadata": {},
   "outputs": [
    {
     "data": {
      "text/plain": [
       "[<matplotlib.lines.Line2D at 0x7fb5646a4880>]"
      ]
     },
     "execution_count": 9,
     "metadata": {},
     "output_type": "execute_result"
    },
    {
     "data": {
      "image/png": "[encoded data removed]",
      "text/plain": [
       "<Figure size 640x480 with 1 Axes>"
      ]
     },
     "metadata": {},
     "output_type": "display_data"
    }
   ],
   "source": [
    "color = plt.cm.tab20.colors\n",
    "\n",
    "k_ = 6\n",
    "\n",
    "posterior = models[k_].expectation(X).argmax(-1)\n",
    "\n",
    "fig = plt.figure()\n",
    "ax = fig.add_subplot(1, 1, 1)\n",
    "\n",
    "for i in range(k_ + 1):\n",
    "    X_i = X[posterior == i]\n",
    "    ax.plot(X_i[:, -1], X_i[:, 0], \".\", color=color[i % len(color)])\n",
    "ax.plot(\n",
    "    models[k_].params[\"mean\"][:, -1],\n",
    "    models[k_].params[\"mean\"][:, 0],\n",
    "    \".\",\n",
    "    color=\"k\",\n",
    "    label=\"Mixture\",\n",
    ")"
   ]
  },
  {
   "cell_type": "code",
   "execution_count": 10,
   "id": "7e6b5716-763f-4211-9b57-d0a73fca8bec",
   "metadata": {
    "tags": []
   },
   "outputs": [
    {
     "data": {
      "text/plain": [
       "<matplotlib.legend.Legend at 0x7fb56477e5b0>"
      ]
     },
     "execution_count": 10,
     "metadata": {},
     "output_type": "execute_result"
    },
    {
     "data": {
      "image/png": "[encoded data removed]",
      "text/plain": [
       "<Figure size 640x480 with 1 Axes>"
      ]
     },
     "metadata": {},
     "output_type": "display_data"
    }
   ],
   "source": [
    "for i in range(len(models)):\n",
    "    plt.plot(models[i].loss, label=i + 1)\n",
    "plt.legend()"
   ]
  },
  {
   "cell_type": "code",
   "execution_count": 11,
   "id": "e33c6008-65d8-4069-a744-d3f9ac713ccb",
   "metadata": {
    "tags": []
   },
   "outputs": [],
   "source": [
    "from einops import repeat\n",
    "\n",
    "posterior = repeat(models[5].expectation(X), \"... k -> ... k 1\")\n",
    "stats = models[5].calculate_weigthed_stats(X, posterior)"
   ]
  },
  {
   "cell_type": "code",
   "execution_count": 1,
   "id": "3d4e378f-7929-4127-adb0-cebb2beacf0a",
   "metadata": {
    "tags": []
   },
   "outputs": [
    {
     "name": "stdout",
     "output_type": "stream",
     "text": [
      "/home/zarizky/projects/neural-autoregressive-object-co-occurrence\n"
     ]
    }
   ],
   "source": [
    "%cd ..\n",
    "\n",
    "from copy import deepcopy\n",
    "from math import log\n",
    "\n",
    "import pandas as pd\n",
    "import torch\n",
    "\n",
    "from mixture.poisson import PoissonMixture\n",
    "\n",
    "df_train = pd.read_csv(\"dataset/coco2017-cooccurences-train.csv\")\n",
    "\n",
    "inp = torch.from_numpy(df_train.iloc[:, 8:].to_numpy()).float()\n",
    "\n",
    "# inp = torch.poisson(torch.zeros(1000, 2).uniform_(0.1, 1))"
   ]
  },
  {
   "cell_type": "code",
   "execution_count": 2,
   "id": "973db6fc-b955-41d2-8a20-80bf38a3bfbf",
   "metadata": {
    "tags": []
   },
   "outputs": [],
   "source": [
    "inp = torch.from_numpy(\n",
    "    df_train.iloc[:, 8:].sample(15000, replace=False).to_numpy()\n",
    ").float()"
   ]
  },
  {
   "cell_type": "code",
   "execution_count": 4,
   "id": "3a107d9b-4ad1-4178-95f4-2e40cb3c15fa",
   "metadata": {
    "tags": []
   },
   "outputs": [
    {
     "name": "stdout",
     "output_type": "stream",
     "text": [
      "1 362,852.0312\n",
      "2 326,743.7188\n",
      "3 299,512.5938\n",
      "4 290,213.2188\n",
      "5 281,506.0938\n",
      "6 274,353.5938\n",
      "7 267,984.7188\n",
      "8 264,237.0625\n",
      "9 259,088.4219\n",
      "10 257,065.1875\n",
      "11 253,870.3906\n",
      "12 251,176.4688\n",
      "13 247,942.1875\n",
      "14 246,165.1719\n",
      "15 243,223.2812\n",
      "16 241,739.9219\n",
      "17 240,572.0469\n",
      "18 237,390.7344\n",
      "19 236,423.2031\n",
      "20 234,789.5781\n"
     ]
    }
   ],
   "source": [
    "result = []\n",
    "models = []\n",
    "\n",
    "torch.manual_seed(0)\n",
    "\n",
    "restarts = 10\n",
    "k_max = 20\n",
    "for k_i in range(1, k_max + 1):\n",
    "    bic_best = float(\"inf\")\n",
    "    for _ in range(restarts):\n",
    "        pm = PoissonMixture(k_i)\n",
    "        pm.fit(inp)\n",
    "        if bic_best > (\n",
    "            bic_current := pm.loss[-1] * inp.size(0)\n",
    "            + sum(p.numel() for p in pm.parameters()) / (2 * log(inp.size(0)))\n",
    "        ):\n",
    "            bic_best = bic_current\n",
    "            model_best = deepcopy(pm)\n",
    "    result.append(bic_best)\n",
    "    models.append(model_best)\n",
    "\n",
    "    print(k_i, \"{:,.4f}\".format(result[-1]))"
   ]
  },
  {
   "cell_type": "code",
   "execution_count": null,
   "id": "998cd4e7-e50d-4781-8cc0-253ebe16defa",
   "metadata": {
    "tags": []
   },
   "outputs": [],
   "source": [
    "gmm.dist.component_distribution.base_dist.gate"
   ]
  },
  {
   "cell_type": "code",
   "execution_count": 17,
   "id": "491b438d-3ff0-475d-99b2-6827e0be0330",
   "metadata": {
    "tags": []
   },
   "outputs": [
    {
     "data": {
      "text/plain": [
       "tensor([0.4999, 0.0870, 0.0850, 0.1232, 0.0436, 0.0947, 0.0199, 0.0467])"
      ]
     },
     "execution_count": 17,
     "metadata": {},
     "output_type": "execute_result"
    }
   ],
   "source": [
    "models[7].prior"
   ]
  },
  {
   "cell_type": "code",
   "execution_count": null,
   "id": "602bd887-3d35-475a-a8c5-26d0654355e8",
   "metadata": {
    "tags": []
   },
   "outputs": [],
   "source": [
    "(inp <= 0).sum(0)"
   ]
  },
  {
   "cell_type": "code",
   "execution_count": null,
   "id": "a72be20a-9aff-4ee9-9984-4485e031822c",
   "metadata": {
    "tags": []
   },
   "outputs": [],
   "source": [
    "plt.xlabel(\"$k$\")\n",
    "plt.ylabel(\"BIC\")\n",
    "plt.plot(result)"
   ]
  },
  {
   "cell_type": "code",
   "execution_count": null,
   "id": "5b91b5bf-b04e-48f6-b247-846641f5776f",
   "metadata": {
    "tags": []
   },
   "outputs": [],
   "source": [
    "for i, model in enumerate(models, 1):\n",
    "    plt.plot(model.loss, label=i)\n",
    "plt.legend()"
   ]
  },
  {
   "cell_type": "code",
   "execution_count": null,
   "id": "57e33426-a2a2-4c29-bfe3-86bb928ab765",
   "metadata": {
    "tags": []
   },
   "outputs": [],
   "source": [
    "%cd .."
   ]
  },
  {
   "cell_type": "code",
   "execution_count": null,
   "id": "d9f78620-64d6-431a-89b9-108bc3c859be",
   "metadata": {
    "tags": []
   },
   "outputs": [],
   "source": [
    "from collections import OrderedDict\n",
    "from copy import deepcopy\n",
    "\n",
    "import numpy as np\n",
    "import torch\n",
    "import torch.nn.functional as F\n",
    "from einops import rearrange, repeat\n",
    "from matplotlib import pyplot as plt\n",
    "from sklearn.datasets import make_blobs\n",
    "from torch.distributions import (\n",
    "    Categorical,\n",
    "    Independent,\n",
    "    MixtureSameFamily,\n",
    "    Normal,\n",
    "    Poisson,\n",
    ")\n",
    "from tqdm.auto import tqdm\n",
    "\n",
    "from utils.dataset import ObjectCooccurrenceCOCODataset\n",
    "from utils.distribution import HurdleDistribution\n",
    "\n",
    "device = \"cuda\" if torch.cuda.is_available() else \"cpu\"\n",
    "\n",
    "torch.manual_seed(0)\n",
    "\n",
    "dataset = ObjectCooccurrenceCOCODataset(\"dataset/coco2017-cooccurences-train.csv\")\n",
    "\n",
    "batch_size = 1024\n",
    "batch_size = len(dataset) // 2\n",
    "\n",
    "dataloader = torch.utils.data.DataLoader(dataset, batch_size, True)\n",
    "sampler = Categorical(logits=torch.zeros(dataset.features.shape[0]))\n",
    "\n",
    "max_step = 100\n",
    "num_restarts = 10\n",
    "max_ks = 20\n",
    "tolerance_max = 20\n",
    "\n",
    "lr_base = 1.0\n",
    "lr = lr_base * dataloader.batch_size / 128\n",
    "\n",
    "models = []\n",
    "losses_k = []\n",
    "for k in (pbar1 := tqdm(range(1, max_ks + 1))):\n",
    "    losses = []\n",
    "    loss_best = float(\"inf\")\n",
    "    for trial in (pbar := tqdm(range(1, num_restarts + 1), leave=False)):\n",
    "        pbar.set_description(\"Fitting k = {:0=2d}\".format(k))\n",
    "\n",
    "        params = torch.nn.ParameterDict()\n",
    "        params[\"mixture_logits\"] = torch.nn.Parameter(torch.zeros(k))\n",
    "        params[\"rate\"] = torch.nn.Parameter(\n",
    "            torch.from_numpy(\n",
    "                dataset.features.iloc[sampler.sample([k])].to_numpy()\n",
    "            ).float()\n",
    "        )\n",
    "        params[\"gate_logits\"] = torch.nn.Parameter(torch.zeros_like(params[\"rate\"]))\n",
    "\n",
    "        params = params.to(device)\n",
    "\n",
    "        opt = torch.optim.Adam(params.parameters(), lr)\n",
    "        sch = torch.optim.lr_scheduler.OneCycleLR(\n",
    "            opt, lr, epochs=max_step, steps_per_epoch=len(dataloader)\n",
    "        )\n",
    "\n",
    "        loss_step_old = float(\"inf\")\n",
    "        tolerance = 0\n",
    "        for i in range(max_step):\n",
    "            for inputs in dataloader:\n",
    "                inputs = inputs.to(device)\n",
    "\n",
    "                logits = params[\"mixture_logits\"]\n",
    "                rate = F.softplus(params[\"rate\"])\n",
    "                gate = params[\"gate_logits\"].sigmoid()\n",
    "\n",
    "                mix_dist = Categorical(logits=logits)\n",
    "                comp_dist = Poisson(rate + 1e-5)\n",
    "                comp_dist = HurdleDistribution(comp_dist, gate=gate)\n",
    "                comp_dist = Independent(comp_dist, 1)\n",
    "                dist = MixtureSameFamily(mix_dist, comp_dist)\n",
    "\n",
    "                ll = mix_dist.logits + comp_dist.log_prob(inputs[:, None, :])\n",
    "                obj = ll.detach().softmax(-1) * ll\n",
    "                obj = obj.sum(-1).mean().neg()\n",
    "\n",
    "                obj.backward()\n",
    "                opt.step()\n",
    "                sch.step()\n",
    "                opt.zero_grad()\n",
    "\n",
    "        loss = 0\n",
    "        n = 0\n",
    "        for inputs in dataloader:\n",
    "            inputs = inputs.to(device)\n",
    "            with torch.no_grad():\n",
    "                loss += dist.log_prob(inputs).sum().neg().item()\n",
    "                n += inputs.size(0)\n",
    "\n",
    "        losses.append(loss / n)\n",
    "\n",
    "        if loss_best > losses[-1]:\n",
    "            loss_best = losses[-1]\n",
    "            params_best = deepcopy(params.cpu())\n",
    "        else:\n",
    "            tolerance += 1\n",
    "\n",
    "        if tolerance > tolerance_max:\n",
    "            break\n",
    "\n",
    "        pbar.set_postfix(\n",
    "            OrderedDict(\n",
    "                [(\"current\", f\"{losses[-1]:.4f}\"), (\"best\", f\"{loss_best:.4f}\")]\n",
    "            )\n",
    "        )\n",
    "\n",
    "    torch.save(params_best.state_dict(), f\"outputs/mixture_{k:0=2d}.pt\")"
   ]
  },
  {
   "cell_type": "code",
   "execution_count": null,
   "id": "0bb60ae0-a79c-464c-973e-f99ce0857c22",
   "metadata": {
    "tags": []
   },
   "outputs": [],
   "source": [
    "logits = params_best[\"mixture_logits\"]\n",
    "rate = F.softplus(params_best[\"rate\"])\n",
    "gate = params_best[\"gate_logits\"].sigmoid()\n",
    "\n",
    "mix_dist = Categorical(logits=logits)\n",
    "comp_dist = Poisson(rate + 1e-5)\n",
    "comp_dist = HurdleDistribution(comp_dist, gate=gate)\n",
    "comp_dist = Independent(comp_dist, 1)\n",
    "dist = MixtureSameFamily(mix_dist, comp_dist)\n",
    "\n",
    "loss = 0\n",
    "n = 0\n",
    "for inputs in dataloader:\n",
    "    with torch.no_grad():\n",
    "        loss += dist.log_prob(inputs).sum().neg().item()\n",
    "        n += inputs.size(0)\n",
    "\n",
    "dataset = ObjectCooccurrenceCOCODataset(\"dataset/coco2017-cooccurences-valid.csv\")\n",
    "inputs = torch.from_numpy(dataset.features.to_numpy()).to(device)\n",
    "ll = mix_dist.logits + comp_dist.log_prob(inputs[:, None, :])\n",
    "posterior = ll.softmax(-1)"
   ]
  },
  {
   "cell_type": "code",
   "execution_count": null,
   "id": "d2963b66-77d7-4850-8f60-553b61098721",
   "metadata": {
    "tags": []
   },
   "outputs": [],
   "source": [
    "from IPython.display import Image\n",
    "\n",
    "assign = posterior.max(-1).indices\n",
    "for i in range(10):\n",
    "    try:\n",
    "        sample = dataset.metadata.iloc[np.where(assign == i)].sample(5, replace=False)\n",
    "        print(\"Group\", i + 1)\n",
    "        for row in sample.iloc:\n",
    "            display(Image(row.coco_url, height=100, width=100))\n",
    "    except:\n",
    "        pass"
   ]
  }
 ],
 "metadata": {
  "kernelspec": {
   "display_name": "Python 3 (ipykernel)",
   "language": "python",
   "name": "python3"
  },
  "language_info": {
   "codemirror_mode": {
    "name": "ipython",
    "version": 3
   },
   "file_extension": ".py",
   "mimetype": "text/x-python",
   "name": "python",
   "nbconvert_exporter": "python",
   "pygments_lexer": "ipython3",
   "version": "3.9.16"
  }
 },
 "nbformat": 4,
 "nbformat_minor": 5
}
