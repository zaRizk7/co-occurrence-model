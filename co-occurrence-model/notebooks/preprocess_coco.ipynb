{
 "cells": [
  {
   "cell_type": "code",
   "execution_count": 1,
   "id": "22512c07-ebc7-4378-8702-2121315fae74",
   "metadata": {},
   "outputs": [
    {
     "name": "stdout",
     "output_type": "stream",
     "text": [
      "/home/zarizky/projects/neural-autoregressive-object-co-occurrence\n"
     ]
    }
   ],
   "source": [
    "%cd .."
   ]
  },
  {
   "cell_type": "code",
   "execution_count": 2,
   "id": "4b79e971-ef95-4541-ac3c-c8b62a4f7159",
   "metadata": {},
   "outputs": [],
   "source": [
    "import json\n",
    "from collections import defaultdict\n",
    "\n",
    "import numpy as np\n",
    "import pandas as pd\n",
    "from sklearn.model_selection import train_test_split\n",
    "from tqdm.auto import tqdm\n",
    "\n",
    "from utils.dataset import ObjectCooccurrenceCOCODataset"
   ]
  },
  {
   "cell_type": "code",
   "execution_count": 3,
   "id": "62a31bc9-2d62-4a52-81b0-218c0335e4c9",
   "metadata": {},
   "outputs": [],
   "source": [
    "with open(\"dataset/instances_train2017.json\") as file:\n",
    "    data_train = json.load(file)\n",
    "\n",
    "with open(\"dataset/instances_val2017.json\") as file:\n",
    "    data_valid = json.load(file)"
   ]
  },
  {
   "cell_type": "code",
   "execution_count": 4,
   "id": "44e6c06e-5011-4908-bce9-bc3aae4392bb",
   "metadata": {},
   "outputs": [],
   "source": [
    "annotations_train = data_train[\"annotations\"]\n",
    "categories_train = data_train[\"categories\"]\n",
    "\n",
    "annotations_valid = data_valid[\"annotations\"]\n",
    "categories_valid = data_valid[\"categories\"]"
   ]
  },
  {
   "cell_type": "code",
   "execution_count": 5,
   "id": "ca19551b-64c3-46fa-a96f-905b3981ea5e",
   "metadata": {},
   "outputs": [
    {
     "data": {
      "application/vnd.jupyter.widget-view+json": {
       "model_id": "04b7a715d95a4355b4c28494c958e3be",
       "version_major": 2,
       "version_minor": 0
      },
      "text/plain": [
       "  0%|          | 0/860001 [00:00<?, ?it/s]"
      ]
     },
     "metadata": {},
     "output_type": "display_data"
    },
    {
     "data": {
      "application/vnd.jupyter.widget-view+json": {
       "model_id": "ea0f06ae7f3f4be9be66c04a6495d61f",
       "version_major": 2,
       "version_minor": 0
      },
      "text/plain": [
       "  0%|          | 0/36781 [00:00<?, ?it/s]"
      ]
     },
     "metadata": {},
     "output_type": "display_data"
    }
   ],
   "source": [
    "cooccurences_train = {img[\"id\"]: np.zeros(90) for img in data_train[\"images\"]}\n",
    "for annotation in tqdm(annotations_train):\n",
    "    image_id = annotation[\"image_id\"]\n",
    "    category_id = annotation[\"category_id\"]\n",
    "    cooccurences_train[image_id][category_id - 1] += 1\n",
    "\n",
    "cooccurences_valid = {img[\"id\"]: np.zeros(90) for img in data_valid[\"images\"]}\n",
    "for annotation in tqdm(annotations_valid):\n",
    "    image_id = annotation[\"image_id\"]\n",
    "    category_id = annotation[\"category_id\"]\n",
    "    cooccurences_valid[image_id][category_id - 1] += 1"
   ]
  },
  {
   "cell_type": "code",
   "execution_count": 6,
   "id": "e9cb4201-6de8-45a6-8a28-78c207df2067",
   "metadata": {},
   "outputs": [],
   "source": [
    "labels = {a[\"id\"]: f\"[{a['name']}]-[{a['supercategory']}]\" for a in categories_train}\n",
    "columns = [labels.get(i, \"[UNK]\") for i in range(1, 90 + 1)]\n",
    "\n",
    "X_train = np.fromiter(cooccurences_train.values(), dtype=(np.int32, 90))\n",
    "X_valid = np.fromiter(cooccurences_valid.values(), dtype=(np.int32, 90))\n",
    "\n",
    "df_train = pd.DataFrame(X_train, columns=columns)\n",
    "df_valid = pd.DataFrame(X_valid, columns=columns)\n",
    "\n",
    "df_train = df_train.drop([\"[UNK]\"], axis=1)\n",
    "df_valid = df_valid.drop([\"[UNK]\"], axis=1)\n",
    "\n",
    "df_train[\"image_id\"] = cooccurences_train.keys()\n",
    "df_valid[\"image_id\"] = cooccurences_valid.keys()\n",
    "\n",
    "df_images_train = pd.DataFrame(data_train[\"images\"])\n",
    "df_images_valid = pd.DataFrame(data_valid[\"images\"])\n",
    "\n",
    "df_train = df_images_train.merge(df_train, left_on=\"id\", right_on=\"image_id\")\n",
    "df_valid = df_images_valid.merge(df_valid, left_on=\"id\", right_on=\"image_id\")\n",
    "\n",
    "df_train = df_train.drop([\"image_id\"], axis=1)\n",
    "df_test = df_valid.drop([\"image_id\"], axis=1)\n",
    "\n",
    "df_train.to_csv(\"dataset/coco2017-cooccurences-train.csv\", index=False)\n",
    "df_valid.to_csv(\"dataset/coco2017-cooccurences-valid.csv\", index=False)"
   ]
  }
 ],
 "metadata": {
  "kernelspec": {
   "display_name": "Python 3 (ipykernel)",
   "language": "python",
   "name": "python3"
  },
  "language_info": {
   "codemirror_mode": {
    "name": "ipython",
    "version": 3
   },
   "file_extension": ".py",
   "mimetype": "text/x-python",
   "name": "python",
   "nbconvert_exporter": "python",
   "pygments_lexer": "ipython3",
   "version": "3.9.16"
  }
 },
 "nbformat": 4,
 "nbformat_minor": 5
}
