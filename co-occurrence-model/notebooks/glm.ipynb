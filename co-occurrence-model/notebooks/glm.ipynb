{
 "cells": [
  {
   "cell_type": "code",
   "execution_count": 1,
   "id": "802d30c8-4fe8-436d-bc80-5192debf40ca",
   "metadata": {
    "tags": []
   },
   "outputs": [
    {
     "name": "stdout",
     "output_type": "stream",
     "text": [
      "/home/zarizky/projects/neural-autoregressive-object-co-occurrence\n"
     ]
    }
   ],
   "source": [
    "%cd .."
   ]
  },
  {
   "cell_type": "code",
   "execution_count": 2,
   "id": "28a93cae-c017-49ac-bbd4-125bc9352e7a",
   "metadata": {
    "tags": []
   },
   "outputs": [],
   "source": [
    "import einops\n",
    "import matplotlib.pyplot as plt\n",
    "import networkx as nx\n",
    "import torch\n",
    "import torch_optimizer as optim\n",
    "from tqdm.auto import tqdm\n",
    "\n",
    "from utils.dataset import ObjectCooccurrenceCOCODataset\n",
    "\n",
    "torch.manual_seed(0)\n",
    "device = \"cuda\" if torch.cuda.is_available() else \"cpu\""
   ]
  },
  {
   "cell_type": "code",
   "execution_count": 3,
   "id": "8d6ec765-a23d-42fa-a1a6-e22b33b5742d",
   "metadata": {
    "tags": []
   },
   "outputs": [],
   "source": [
    "dataset_train = ObjectCooccurrenceCOCODataset(\"dataset/coco2017-cooccurences-train.csv\")\n",
    "dataset_valid = ObjectCooccurrenceCOCODataset(\"dataset/coco2017-cooccurences-valid.csv\")\n",
    "\n",
    "batch_size = 8196\n",
    "dataloader_train = torch.utils.data.DataLoader(\n",
    "    dataset_train,\n",
    "    batch_size,\n",
    "    True,\n",
    "    num_workers=8,\n",
    "    pin_memory=device == \"cuda\",\n",
    ")\n",
    "\n",
    "dataloader_valid = torch.utils.data.DataLoader(\n",
    "    dataset_valid, batch_size, num_workers=8, pin_memory=device == \"cuda\"\n",
    ")"
   ]
  },
  {
   "cell_type": "code",
   "execution_count": 4,
   "id": "a08a729f-c38b-4ed6-861f-a5d6a836630b",
   "metadata": {
    "tags": []
   },
   "outputs": [],
   "source": [
    "class CategoricalGLM(torch.nn.Module):\n",
    "    def __init__(self, num_features, max_value):\n",
    "        super().__init__()\n",
    "\n",
    "        self.num_features = num_features\n",
    "        self.max_value = max_value\n",
    "\n",
    "        self.pattern = \"... d1, d1 d2 k -> ... d2 k\"\n",
    "\n",
    "        mask = torch.eye(self.num_features, dtype=torch.bool)\n",
    "        mask = mask.logical_not()\n",
    "\n",
    "        self.register_buffer(\"mask\", mask)\n",
    "        self.reset_parameters()\n",
    "\n",
    "    def reset_parameters(self):\n",
    "        weight = torch.empty(self.num_features, self.num_features, self.max_value)\n",
    "        bias = torch.empty(self.num_features, self.max_value)\n",
    "\n",
    "        torch.nn.init.xavier_uniform_(weight)\n",
    "        torch.nn.init.zeros_(bias)\n",
    "\n",
    "        self.weight = torch.nn.Parameter(weight)\n",
    "        self.bias = torch.nn.Parameter(bias)\n",
    "\n",
    "    def mask_weight(self):\n",
    "        pattern = \"d1 d2 k, d1 d2 -> d1 d2 k\"\n",
    "        return einops.einsum(self.weight, self.mask, pattern)\n",
    "\n",
    "    def forward(self, inputs):\n",
    "        weight = self.mask_weight()\n",
    "        outputs = einops.einsum(inputs, weight, self.pattern)\n",
    "        outputs = outputs + self.bias\n",
    "        return outputs"
   ]
  },
  {
   "cell_type": "code",
   "execution_count": 5,
   "id": "1815e3c4-337c-4efc-8cb7-1388ce5a4788",
   "metadata": {
    "tags": []
   },
   "outputs": [
    {
     "data": {
      "application/vnd.jupyter.widget-view+json": {
       "model_id": "c1757fc8bedf42249eccd49ae648f6ce",
       "version_major": 2,
       "version_minor": 0
      },
      "text/plain": [
       "  0%|          | 0/500 [00:00<?, ?epoch/s]"
      ]
     },
     "metadata": {},
     "output_type": "display_data"
    }
   ],
   "source": [
    "epochs = 500\n",
    "\n",
    "glm = CategoricalGLM(80, 29).to(device)\n",
    "opt = optim.Lamb(glm.parameters(), lr=1e-5)\n",
    "sch = torch.optim.lr_scheduler.OneCycleLR(\n",
    "    optimizer=opt, max_lr=1e-1, steps_per_epoch=len(dataloader_train), epochs=epochs\n",
    ")\n",
    "\n",
    "values = torch.arange(29).to(device)\n",
    "\n",
    "for epoch in (pbar := tqdm(range(1, epochs + 1), unit=\"epoch\")):\n",
    "    for inputs in dataloader_train:\n",
    "        targets = inputs.to(device)\n",
    "        inputs = inputs.float().to(device)\n",
    "\n",
    "        outputs = glm(inputs)\n",
    "        dist = torch.distributions.Categorical(logits=outputs)\n",
    "        dist = torch.distributions.Independent(dist, 1)\n",
    "\n",
    "        ll = dist.log_prob(targets)\n",
    "        loss = -ll.mean()\n",
    "        loss.backward()\n",
    "        opt.step()\n",
    "        sch.step()\n",
    "        opt.zero_grad()\n",
    "\n",
    "    ll_train = 0\n",
    "    ll_valid = 0\n",
    "    with torch.inference_mode():\n",
    "        for inputs in dataloader_train:\n",
    "            targets = inputs.to(device)\n",
    "            inputs = inputs.float().to(device)\n",
    "\n",
    "            outputs = glm(inputs)\n",
    "            dist = torch.distributions.Categorical(logits=outputs)\n",
    "            dist = torch.distributions.Independent(dist, 1)\n",
    "            expected_values = (values * outputs.softmax(-1)).sum(-1)\n",
    "\n",
    "            ll = dist.log_prob(targets)\n",
    "            ll_train = ll_train + ll.sum().item()\n",
    "\n",
    "        for inputs in dataloader_valid:\n",
    "            targets = inputs.to(device)\n",
    "            inputs = inputs.float().to(device)\n",
    "\n",
    "            outputs = glm(inputs)\n",
    "            dist = torch.distributions.Categorical(logits=outputs)\n",
    "            dist = torch.distributions.Independent(dist, 1)\n",
    "            expected_values = (values * outputs.softmax(-1)).sum(-1)\n",
    "\n",
    "            ll = dist.log_prob(targets)\n",
    "            ll_valid = ll_valid + ll.sum().item()\n",
    "\n",
    "    pbar.set_postfix(\n",
    "        [\n",
    "            (\"train_nll\", f\"{-ll_train / len(dataset_train):.4f}\"),\n",
    "            (\"valid_nll\", f\"{-ll_valid / len(dataset_valid):.4f}\"),\n",
    "        ]\n",
    "    )"
   ]
  }
 ],
 "metadata": {
  "kernelspec": {
   "display_name": "Python 3 (ipykernel)",
   "language": "python",
   "name": "python3"
  },
  "language_info": {
   "codemirror_mode": {
    "name": "ipython",
    "version": 3
   },
   "file_extension": ".py",
   "mimetype": "text/x-python",
   "name": "python",
   "nbconvert_exporter": "python",
   "pygments_lexer": "ipython3",
   "version": "3.9.16"
  }
 },
 "nbformat": 4,
 "nbformat_minor": 5
}
